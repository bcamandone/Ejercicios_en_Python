{
 "cells": [
  {
   "cell_type": "markdown",
   "id": "592b6a8e",
   "metadata": {},
   "source": [
    "1-Escribe un programa en Python que solicite al usuario el ingreso de una cadena de texto en mayuscula. Luego, realiza las siguientes operaciones:\n",
    "\n",
    "- Cuenta la cantidad de caracteres en la cadena.\n",
    "- Convierte la cadena a minúsculas.\n",
    "- Verifica si la cadena contiene la palabra \"python\".\n",
    "- Muestra la cadena invertida."
   ]
  },
  {
   "cell_type": "code",
   "execution_count": 7,
   "id": "5c6ada87",
   "metadata": {},
   "outputs": [
    {
     "name": "stdout",
     "output_type": "stream",
     "text": [
      "Ingrese una cadena de texto: ESTRELLA\n",
      "\n",
      "1. Cantidad de caracteres: 8\n",
      "2. Cadena en minúsculas: estrella\n",
      "3. ¿Contiene 'python'?: No\n",
      "4. Cadena invertida: ALLERTSE\n"
     ]
    }
   ],
   "source": [
    "# Solicitar al usuario que ingrese una cadena de texto\n",
    "cadena = input(\"Ingrese una cadena de texto: \")\n",
    "\n",
    "# 1. Contar la cantidad de caracteres en la cadena\n",
    "cantidad_caracteres = len(cadena)\n",
    "\n",
    "# 2. Convertir la cadena a minúsculas\n",
    "cadena_minusculas = cadena.lower()\n",
    "\n",
    "# 3. Verificar si la cadena contiene la palabra \"python\"\n",
    "contiene_python = \"python\" in cadena_minusculas\n",
    "\n",
    "# 4. Mostrar la cadena invertida\n",
    "cadena_invertida = cadena[::-1]\n",
    "\n",
    "# Mostrar los resultados\n",
    "print(f\"\\n1. Cantidad de caracteres: {cantidad_caracteres}\")\n",
    "print(f\"2. Cadena en minúsculas: {cadena_minusculas}\")\n",
    "print(f\"3. ¿Contiene 'python'?: {'Sí' if contiene_python else 'No'}\")\n",
    "print(f\"4. Cadena invertida: {cadena_invertida}\")\n"
   ]
  },
  {
   "cell_type": "markdown",
   "id": "fc1f7ee6",
   "metadata": {},
   "source": [
    "2-Crear una función que dado dos vectores numéricos realice el siguiente cálculo: contar cuantos números negativos aparecerán como resultado de multiplicar un vector por el otro. Aplicarla a los vectores x= (1, 3, -2, 5, -10, -20), y= (-3, 4, -5, 6, 15, 5)"
   ]
  },
  {
   "cell_type": "code",
   "execution_count": 8,
   "id": "97ad697f",
   "metadata": {},
   "outputs": [],
   "source": [
    "x = [1, 3, -2, 5, -10, -20]\n",
    "y= [-3, 4, -5, 6, 15, 5]"
   ]
  },
  {
   "cell_type": "code",
   "execution_count": 9,
   "id": "6de1960b",
   "metadata": {},
   "outputs": [],
   "source": [
    "def negativos(x, y):\n",
    "  producto = 0\n",
    "  cont = 0\n",
    "  for i in range(len(x)):\n",
    "    producto = x[i] * y[i]\n",
    "    if producto < 0:\n",
    "      cont = cont + 1\n",
    "  return cont"
   ]
  },
  {
   "cell_type": "code",
   "execution_count": 10,
   "id": "9c7aaab6",
   "metadata": {},
   "outputs": [
    {
     "data": {
      "text/plain": [
       "3"
      ]
     },
     "execution_count": 10,
     "metadata": {},
     "output_type": "execute_result"
    }
   ],
   "source": [
    "negativos(x,y)"
   ]
  },
  {
   "cell_type": "markdown",
   "id": "38d2be68",
   "metadata": {},
   "source": [
    "3-Dado el vector x=(2,4,6,20,3,7,8,22,11,13,55,70,52,33,10) utilizar condicionales y bucles para obtener el valor máximo de ese vector y la posición en la que se encuentra"
   ]
  },
  {
   "cell_type": "code",
   "execution_count": 13,
   "id": "8fadae45",
   "metadata": {},
   "outputs": [
    {
     "name": "stdout",
     "output_type": "stream",
     "text": [
      "El valor máximo es 70 y la posición es 11\n"
     ]
    }
   ],
   "source": [
    "x=[2,4,6,20,3,7,8,22,11,13,55,70,52,33,10]\n",
    "maximo = 0\n",
    "posicion = 0\n",
    "\n",
    "for i in range(len(x)):\n",
    "  if x[i] > maximo:\n",
    "    maximo = x[i] # Actualizar el valor máximo\n",
    "    posicion = i # Actualizar la posición del valor máximo\n",
    "\n",
    "print(f\"El valor máximo es {maximo} y la posición es {posicion}\")"
   ]
  }
 ],
 "metadata": {
  "kernelspec": {
   "display_name": "Python 3 (ipykernel)",
   "language": "python",
   "name": "python3"
  },
  "language_info": {
   "codemirror_mode": {
    "name": "ipython",
    "version": 3
   },
   "file_extension": ".py",
   "mimetype": "text/x-python",
   "name": "python",
   "nbconvert_exporter": "python",
   "pygments_lexer": "ipython3",
   "version": "3.11.4"
  }
 },
 "nbformat": 4,
 "nbformat_minor": 5
}
