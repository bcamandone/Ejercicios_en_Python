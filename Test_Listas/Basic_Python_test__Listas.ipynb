{
  "cells": [
    {
      "cell_type": "markdown",
      "metadata": {
        "id": "cJ19HeAGZnzw"
      },
      "source": [
        "# Test de Python - Listas"
      ]
    },
    {
      "cell_type": "code",
      "execution_count": 1,
      "metadata": {
        "cellView": "form",
        "id": "vSID9Bmj-MJH"
      },
      "outputs": [],
      "source": [
        "#@markdown ### Preguntas { display-mode: \"form\" }\n",
        "#@markdown 1. ¿Qué elementos tendrá la lista después de la ejecución del siguiente código?\n",
        "#@markdown lista=['Sol', 34.9, 'Python']\n",
        "\n",
        "\n",
        "\n",
        "     #@markdown lista.append('perseo')\n",
        "\n",
        "#@markdown Marque la correcta:\n",
        "#@markdown  - a.  ['Sol', 34.9, 'Python']\n",
        "#@markdown  - b.  ['Sol', 34.9, 'Python', 'perseo' ]\n",
        "#@markdown  - c.  ['perseo']\n",
        "\n",
        "\n",
        "\n",
        "item_1 = \"Seleccionar respuesta\" # @param [\"a\", \"b\", \"c\",\"Seleccionar respuesta\"]"
      ]
    },
    {
      "cell_type": "code",
      "execution_count": null,
      "metadata": {
        "cellView": "form",
        "id": "kpnyTCIu_M8q"
      },
      "outputs": [],
      "source": [
        "#@markdown{ display-mode: \"form\" }\n",
        "#@markdown 2.¿Qué instrucción es necesaria para obtener los siguientes elementos: [1,5,10,15] en la lista \"lista_b\"? Siendo que\n",
        "#@markdown lista_b = [1,10,15]\n",
        "\n",
        "#@markdown Marque la correcta:\n",
        "#@markdown  - a. lista_b.insert(1,5)\n",
        "#@markdown  - b. lista_b.extend(5,1)\n",
        "#@markdown  - c. lista_b.insert(5,1)\n",
        "\n",
        "\n",
        "\n",
        "item_2 = \"Seleccionar respuesta\" # @param [\"a\", \"b\", \"c\",\"Seleccionar respuesta\"]"
      ]
    },
    {
      "cell_type": "code",
      "execution_count": null,
      "metadata": {
        "cellView": "form",
        "id": "PmRHv-Q9DdVb"
      },
      "outputs": [],
      "source": [
        "#@markdown{ display-mode: \"form\" }\n",
        "#@markdown 3.¿Qué elementos tendrá la \"lista_c\" al ejecutar el siguiente código? Siendo que  lista_c = [4, '2', 1,1,2,2,7]\n",
        "\n",
        "#@markdown lista_c.remove(2)\n",
        "\n",
        "\n",
        "\n",
        "#@markdown Marque la correcta:\n",
        "#@markdown  - a. [4, 1, 1, 7]\n",
        "#@markdown  - b. [4, '2', 1, 1, 7]\n",
        "#@markdown  - c. [4, '2', 1, 1,2, 7]\n",
        "\n",
        "\n",
        "\n",
        "item_3 = \"Seleccionar respuesta\" # @param [\"a\", \"b\", \"c\",\"Seleccionar respuesta\"]"
      ]
    },
    {
      "cell_type": "code",
      "execution_count": null,
      "metadata": {
        "cellView": "form",
        "id": "nbchipYuDnM3"
      },
      "outputs": [],
      "source": [
        "#@markdown{ display-mode: \"form\" }\n",
        "#@markdown 4. Las LISTAS son colecciones ordenadas de objetos, cada elemento tiene un índice, que es la posición en la que se encuentra en la lista empezando desde 1.\n",
        "\n",
        "\n",
        "#@markdown Marque la correcta:\n",
        "#@markdown  - a. Verdadero\n",
        "#@markdown  - b. Falso\n",
        "\n",
        "\n",
        "\n",
        "\n",
        "item_4 = \"Seleccionar respuesta\" # @param [\"a\", \"b\",\"Seleccionar respuesta\"]"
      ]
    },
    {
      "cell_type": "code",
      "execution_count": null,
      "metadata": {
        "cellView": "form",
        "id": "WUXS656ODn67"
      },
      "outputs": [],
      "source": [
        "#@markdown{ display-mode: \"form\" }\n",
        "#@markdown 5. Cuando accedemos a un rango dentro de lista el limite inferior se incluye y el superior se excluye\n",
        "\n",
        "#@markdown Marque la correcta:\n",
        "#@markdown  - a. Verdadero\n",
        "#@markdown  - b. Falso\n",
        "\n",
        "\n",
        "\n",
        "\n",
        "item_5 = \"Seleccionar respuesta\" # @param [\"a\", \"b\",\"Seleccionar respuesta\"]"
      ]
    }
  ],
  "metadata": {
    "colab": {
      "provenance": []
    },
    "kernelspec": {
      "display_name": "Python 3",
      "name": "python3"
    },
    "language_info": {
      "name": "python"
    }
  },
  "nbformat": 4,
  "nbformat_minor": 0
}